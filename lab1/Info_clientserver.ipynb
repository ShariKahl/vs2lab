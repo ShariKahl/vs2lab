{
 "cells": [
  {
   "cell_type": "markdown",
   "metadata": {},
   "source": [
    "Info clientserver"
   ]
  },
  {
   "cell_type": "code",
   "execution_count": null,
   "metadata": {},
   "outputs": [
    {
     "name": "stdout",
     "output_type": "stream",
     "text": [
      "GET - Alice\n"
     ]
    }
   ],
   "source": [
    "from tcp_client import TcpClient\n",
    "\n",
    "# Create a client instance\n",
    "client = TcpClient()\n",
    "\n",
    "# Send a GET command with a search query\n",
    "print(\"GET - Alice\")\n",
    "data = client.sendCommand(\"GET\", \"Alice\")\n",
    "for entry in data:\n",
    "    print(f\"{entry.name}: {entry.phone_number}, {entry.city}\")\n",
    "\n",
    "\n",
    "# Send a GET_ALL command\n",
    "print(\"GET_ALL\")\n",
    "data = client.sendCommand(\"GET_ALL\")\n",
    "for entry in data:\n",
    "    print(f\"{entry.name}: {entry.phone_number}, {entry.city}\")\n",
    "\n",
    "print(\"Number of entries: \" + str(len(data)))"
   ]
  }
 ],
 "metadata": {
  "kernelspec": {
   "display_name": "vs2lab-H_h_3BnT",
   "language": "python",
   "name": "python3"
  },
  "language_info": {
   "codemirror_mode": {
    "name": "ipython",
    "version": 3
   },
   "file_extension": ".py",
   "mimetype": "text/x-python",
   "name": "python",
   "nbconvert_exporter": "python",
   "pygments_lexer": "ipython3",
   "version": "3.13.0"
  }
 },
 "nbformat": 4,
 "nbformat_minor": 2
}
